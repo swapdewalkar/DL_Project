{
 "cells": [
  {
   "cell_type": "code",
   "execution_count": 3,
   "metadata": {
    "ExecuteTime": {
     "end_time": "2019-01-06T16:15:35.096981Z",
     "start_time": "2019-01-06T16:15:35.089584Z"
    }
   },
   "outputs": [],
   "source": [
    "'''Trains a simple convnet on the MNIST dataset.\n",
    "Gets to 99.25% test accuracy after 12 epochs\n",
    "(there is still a lot of margin for parameter tuning).\n",
    "16 seconds per epoch on a GRID K520 GPU.\n",
    "'''\n",
    "\n",
    "from __future__ import print_function\n",
    "import keras\n",
    "from keras.datasets import mnist\n",
    "from keras.models import Sequential\n",
    "from keras.layers import Dense, Dropout, Flatten\n",
    "from keras.layers import Conv2D, MaxPooling2D\n",
    "from keras import backend as K\n",
    "import numpy as np\n",
    "import matplotlib.pyplot as plt\n",
    "\n",
    "batch_size = 128\n",
    "num_classes = 10\n",
    "epochs = 12"
   ]
  },
  {
   "cell_type": "code",
   "execution_count": 4,
   "metadata": {
    "ExecuteTime": {
     "end_time": "2019-01-06T16:15:35.555842Z",
     "start_time": "2019-01-06T16:15:35.529390Z"
    }
   },
   "outputs": [],
   "source": [
    "def load_data():\n",
    "    # input image dimensions\n",
    "    img_rows, img_cols = 28, 28\n",
    "\n",
    "    # the data, split between train and test sets\n",
    "    (x_train, y_train), (x_test, y_test) = mnist.load_data()\n",
    "\n",
    "    if K.image_data_format() == 'channels_first':\n",
    "        x_train = x_train.reshape(x_train.shape[0], 1, img_rows, img_cols)\n",
    "        x_test = x_test.reshape(x_test.shape[0], 1, img_rows, img_cols)\n",
    "        input_shape = (1, img_rows, img_cols)\n",
    "    else:\n",
    "        x_train = x_train.reshape(x_train.shape[0], img_rows, img_cols, 1)\n",
    "        x_test = x_test.reshape(x_test.shape[0], img_rows, img_cols, 1)\n",
    "        input_shape = (img_rows, img_cols, 1)\n",
    "\n",
    "    x_train = x_train.astype('float32')\n",
    "    x_test = x_test.astype('float32')\n",
    "    x_train /= 255\n",
    "    x_test /= 255\n",
    "    print('x_train shape:', x_train.shape)\n",
    "    print(x_train.shape[0], 'train samples')\n",
    "    print(x_test.shape[0], 'test samples')\n",
    "\n",
    "    # convert class vectors to binary class matrices\n",
    "    y_train = keras.utils.to_categorical(y_train, num_classes)\n",
    "    y_test = keras.utils.to_categorical(y_test, num_classes)\n",
    "    return x_train, x_test,y_train,y_test,input_shape\n",
    "\n",
    "def create_model(input_shape):\n",
    "    model = Sequential()\n",
    "    model.add(Conv2D(8, kernel_size=(3, 3),\n",
    "                     activation='relu',\n",
    "                     input_shape=input_shape))\n",
    "    model.add(Conv2D(16, (3, 3), activation='relu'))\n",
    "    model.add(MaxPooling2D(pool_size=(2, 2)))\n",
    "    model.add(Dropout(0.25))\n",
    "    model.add(Flatten())\n",
    "    model.add(Dense(64, activation='relu'))\n",
    "    model.add(Dropout(0.5))\n",
    "    model.add(Dense(num_classes, activation='softmax'))\n",
    "\n",
    "    model.compile(loss=keras.losses.categorical_crossentropy,\n",
    "                  optimizer=keras.optimizers.Adadelta(),\n",
    "                  metrics=['accuracy'])\n",
    "    return  model\n",
    "\n",
    "def get_teacher_softmax(filename):\n",
    "    return np.load(filename)\n",
    "\n",
    "def show_images(data,N):\n",
    "    for i in range(N):\n",
    "#         print(np.argmax(teacher_softmaxs[i]))\n",
    "        plt.imshow(data[i].reshape(28,28))\n",
    "    \n",
    "        plt.show()\n",
    "        \n",
    "def train_model(model,x,y,x_test,y_test):\n",
    "    model.fit(x, y,\n",
    "          batch_size=batch_size,\n",
    "          epochs=epochs,\n",
    "          verbose=1,\n",
    "          validation_data=(x_test, y_test))\n",
    "    score = model.evaluate(x_test, y_test, verbose=0)\n",
    "    print('Test loss:', score[0])\n",
    "    print('Test accuracy:', score[1])\n",
    "    \n",
    "    "
   ]
  },
  {
   "cell_type": "code",
   "execution_count": 6,
   "metadata": {
    "ExecuteTime": {
     "end_time": "2019-01-06T16:17:48.212350Z",
     "start_time": "2019-01-06T16:16:44.737416Z"
    },
    "scrolled": true
   },
   "outputs": [
    {
     "name": "stdout",
     "output_type": "stream",
     "text": [
      "x_train shape: (60000, 28, 28, 1)\n",
      "60000 train samples\n",
      "10000 test samples\n"
     ]
    },
    {
     "data": {
      "image/png": "[encoded data removed]",
      "text/plain": [
       "<Figure size 432x288 with 1 Axes>"
      ]
     },
     "metadata": {
      "needs_background": "light"
     },
     "output_type": "display_data"
    },
    {
     "data": {
      "image/png": "[encoded data removed]",
      "text/plain": [
       "<Figure size 432x288 with 1 Axes>"
      ]
     },
     "metadata": {
      "needs_background": "light"
     },
     "output_type": "display_data"
    },
    {
     "data": {
      "image/png": "[encoded data removed]",
      "text/plain": [
       "<Figure size 432x288 with 1 Axes>"
      ]
     },
     "metadata": {
      "needs_background": "light"
     },
     "output_type": "display_data"
    },
    {
     "data": {
      "image/png": "[encoded data removed]",
      "text/plain": [
       "<Figure size 432x288 with 1 Axes>"
      ]
     },
     "metadata": {
      "needs_background": "light"
     },
     "output_type": "display_data"
    },
    {
     "data": {
      "image/png": "[encoded data removed]",
      "text/plain": [
       "<Figure size 432x288 with 1 Axes>"
      ]
     },
     "metadata": {
      "needs_background": "light"
     },
     "output_type": "display_data"
    },
    {
     "data": {
      "image/png": "[encoded data removed]",
      "text/plain": [
       "<Figure size 432x288 with 1 Axes>"
      ]
     },
     "metadata": {
      "needs_background": "light"
     },
     "output_type": "display_data"
    },
    {
     "data": {
      "image/png": "[encoded data removed]",
      "text/plain": [
       "<Figure size 432x288 with 1 Axes>"
      ]
     },
     "metadata": {
      "needs_background": "light"
     },
     "output_type": "display_data"
    },
    {
     "data": {
      "image/png": "[encoded data removed]",
      "text/plain": [
       "<Figure size 432x288 with 1 Axes>"
      ]
     },
     "metadata": {
      "needs_background": "light"
     },
     "output_type": "display_data"
    },
    {
     "data": {
      "image/png": "[encoded data removed]",
      "text/plain": [
       "<Figure size 432x288 with 1 Axes>"
      ]
     },
     "metadata": {
      "needs_background": "light"
     },
     "output_type": "display_data"
    },
    {
     "data": {
      "image/png": "[encoded data removed]",
      "text/plain": [
       "<Figure size 432x288 with 1 Axes>"
      ]
     },
     "metadata": {
      "needs_background": "light"
     },
     "output_type": "display_data"
    },
    {
     "name": "stdout",
     "output_type": "stream",
     "text": [
      "[5 0 4 1 9 2 1 3 1 4]\n",
      "Train on 60000 samples, validate on 10000 samples\n",
      "Epoch 1/12\n",
      "60000/60000 [==============================] - 8s 139us/step - loss: 0.3965 - acc: 0.8762 - val_loss: 0.0898 - val_acc: 0.9721\n",
      "Epoch 2/12\n",
      "60000/60000 [==============================] - 5s 79us/step - loss: 0.1619 - acc: 0.9525 - val_loss: 0.0630 - val_acc: 0.9804\n",
      "Epoch 3/12\n",
      "60000/60000 [==============================] - 5s 78us/step - loss: 0.1280 - acc: 0.9620 - val_loss: 0.0537 - val_acc: 0.9828\n",
      "Epoch 4/12\n",
      "60000/60000 [==============================] - 5s 80us/step - loss: 0.1119 - acc: 0.9672 - val_loss: 0.0488 - val_acc: 0.9846\n",
      "Epoch 5/12\n",
      "60000/60000 [==============================] - 5s 81us/step - loss: 0.0991 - acc: 0.9706 - val_loss: 0.0457 - val_acc: 0.9850\n",
      "Epoch 6/12\n",
      "60000/60000 [==============================] - 5s 80us/step - loss: 0.0912 - acc: 0.9726 - val_loss: 0.0416 - val_acc: 0.9860\n",
      "Epoch 7/12\n",
      "60000/60000 [==============================] - 5s 80us/step - loss: 0.0892 - acc: 0.9738 - val_loss: 0.0446 - val_acc: 0.9862\n",
      "Epoch 8/12\n",
      "60000/60000 [==============================] - 5s 81us/step - loss: 0.0786 - acc: 0.9766 - val_loss: 0.0383 - val_acc: 0.9868\n",
      "Epoch 9/12\n",
      "60000/60000 [==============================] - 5s 80us/step - loss: 0.0763 - acc: 0.9778 - val_loss: 0.0385 - val_acc: 0.9866\n",
      "Epoch 10/12\n",
      "60000/60000 [==============================] - 5s 80us/step - loss: 0.0748 - acc: 0.9778 - val_loss: 0.0368 - val_acc: 0.9875\n",
      "Epoch 11/12\n",
      "60000/60000 [==============================] - 5s 81us/step - loss: 0.0735 - acc: 0.9784 - val_loss: 0.0357 - val_acc: 0.9890\n",
      "Epoch 12/12\n",
      "60000/60000 [==============================] - 5s 78us/step - loss: 0.0699 - acc: 0.9793 - val_loss: 0.0364 - val_acc: 0.9886\n",
      "Test loss: 0.036416491279082766\n",
      "Test accuracy: 0.9886\n"
     ]
    }
   ],
   "source": [
    "#Main\n",
    "l=0.5\n",
    "x_train,x_test,y_train,y_test,input_shape=load_data()\n",
    "model=create_model(input_shape)\n",
    "teacher_softmaxs=get_teacher_softmax(\"teacher_mnist_softmax.npy\")\n",
    "show_images(x_train,10)\n",
    "y_true_modified =  l*y_train + (1-l)* teacher_softmaxs\n",
    "print(np.argmax(y_true_modified[:10],axis=1))\n",
    "train_model(model,x_train,y_true_modified,x_test,y_test)"
   ]
  },
  {
   "cell_type": "code",
   "execution_count": 20,
   "metadata": {
    "ExecuteTime": {
     "end_time": "2019-01-06T16:31:31.330712Z",
     "start_time": "2019-01-06T16:31:31.318035Z"
    }
   },
   "outputs": [
    {
     "name": "stdout",
     "output_type": "stream",
     "text": [
      "100\n"
     ]
    }
   ],
   "source": [
    "print(len())"
   ]
  },
  {
   "cell_type": "code",
   "execution_count": 17,
   "metadata": {
    "ExecuteTime": {
     "end_time": "2019-01-06T16:31:00.566763Z",
     "start_time": "2019-01-06T16:31:00.542382Z"
    }
   },
   "outputs": [
    {
     "data": {
      "text/plain": [
       "array([[1.08195679e-12, 2.17155322e-10, 3.53858298e-09, 3.45059306e-08,\n",
       "        1.71003905e-11, 2.86272525e-13, 1.71728279e-18, 1.00000000e+00,\n",
       "        8.77060143e-12, 5.46378720e-09],\n",
       "       [5.26032308e-11, 1.72930925e-07, 9.99999881e-01, 2.33231073e-10,\n",
       "        3.90237213e-13, 1.34060082e-14, 3.02193243e-10, 6.09622186e-10,\n",
       "        7.03873537e-09, 2.47219006e-17],\n",
       "       [3.05247250e-09, 9.99993563e-01, 2.12116925e-06, 1.82092497e-09,\n",
       "        1.73216779e-06, 1.81862048e-09, 1.64763435e-07, 2.12943269e-06,\n",
       "        2.30675923e-07, 7.43389517e-10],\n",
       "       [9.99977231e-01, 9.32397537e-09, 2.80731854e-07, 2.64207127e-08,\n",
       "        1.32538048e-07, 1.23129905e-06, 1.82139229e-05, 5.02790840e-07,\n",
       "        1.95934103e-06, 3.83864631e-07],\n",
       "       [5.25410160e-10, 4.78518558e-09, 1.38021405e-09, 1.17536948e-13,\n",
       "        9.99998569e-01, 1.61770985e-10, 1.07289372e-10, 1.58290242e-10,\n",
       "        7.75103148e-10, 1.40219481e-06],\n",
       "       [7.48386020e-10, 9.99997497e-01, 1.82324527e-07, 2.22275212e-10,\n",
       "        1.44307955e-06, 2.54508026e-10, 2.15445368e-08, 6.54992277e-07,\n",
       "        9.44549470e-08, 4.86947871e-10],\n",
       "       [5.23473556e-11, 4.61817399e-06, 1.22090760e-09, 3.64438341e-11,\n",
       "        9.99758661e-01, 1.68527365e-07, 1.24473865e-09, 8.83244297e-07,\n",
       "        1.15068869e-04, 1.20615055e-04],\n",
       "       [5.08860232e-10, 5.37852785e-08, 8.56257465e-09, 1.22281875e-07,\n",
       "        2.31642858e-04, 4.38648294e-06, 9.21537624e-10, 3.04641539e-08,\n",
       "        3.65365486e-05, 9.99727190e-01],\n",
       "       [5.29467684e-07, 8.25070567e-11, 3.00603153e-11, 3.16541349e-10,\n",
       "        1.32971067e-07, 9.73860800e-01, 2.61105523e-02, 1.03403082e-08,\n",
       "        2.78726930e-05, 1.43887391e-07],\n",
       "       [1.71341413e-11, 1.09891804e-10, 4.20054019e-10, 3.45769124e-09,\n",
       "        1.76278227e-05, 4.32073355e-09, 2.88981756e-14, 9.63671118e-05,\n",
       "        2.96487565e-06, 9.99883056e-01],\n",
       "       [9.99999881e-01, 1.40052900e-13, 3.48717877e-09, 6.45211488e-12,\n",
       "        4.61264100e-12, 3.39412809e-09, 2.37058173e-09, 1.16503263e-09,\n",
       "        1.06988047e-07, 1.31885125e-09],\n",
       "       [9.70294764e-07, 1.07441105e-11, 2.78472964e-13, 1.33526436e-13,\n",
       "        4.44395146e-11, 4.89478857e-09, 9.99999046e-01, 1.71674185e-13,\n",
       "        6.03566397e-09, 4.15942305e-14],\n",
       "       [1.37800127e-11, 2.30289433e-11, 1.14961041e-10, 8.66338556e-09,\n",
       "        5.87841896e-06, 9.52084100e-09, 1.88974230e-13, 5.46175670e-07,\n",
       "        1.00055082e-07, 9.99993443e-01],\n",
       "       [9.99999166e-01, 2.00405872e-11, 5.64887581e-10, 9.94566669e-12,\n",
       "        2.77670470e-10, 1.86681195e-08, 3.01661807e-08, 2.10810369e-09,\n",
       "        7.73320949e-07, 9.75268311e-09],\n",
       "       [9.25742191e-11, 9.99999762e-01, 1.68427157e-08, 1.83190274e-09,\n",
       "        1.12835941e-07, 4.95070562e-09, 4.59990090e-08, 1.22239596e-08,\n",
       "        9.08205280e-08, 1.74309206e-10],\n",
       "       [9.74198586e-13, 9.52998097e-11, 6.27487211e-13, 2.82822225e-06,\n",
       "        7.32468773e-13, 9.99996662e-01, 9.64593383e-09, 5.16312271e-10,\n",
       "        4.07978263e-07, 1.07846514e-08],\n",
       "       [3.55804497e-10, 1.23711291e-10, 5.24708055e-09, 1.55831472e-08,\n",
       "        1.29745631e-05, 7.69134179e-09, 2.89822148e-13, 1.95714347e-05,\n",
       "        1.02178305e-07, 9.99967337e-01],\n",
       "       [9.94965915e-12, 7.09743930e-11, 1.98643102e-09, 4.37158647e-08,\n",
       "        1.06722834e-12, 2.60009110e-13, 9.19717825e-19, 1.00000000e+00,\n",
       "        4.14525266e-13, 2.73656520e-09],\n",
       "       [6.86273154e-08, 1.90887058e-05, 3.63551299e-05, 9.87374008e-01,\n",
       "        2.28284819e-07, 8.60857870e-03, 4.18735993e-07, 1.38019304e-05,\n",
       "        3.83844646e-03, 1.08969165e-04],\n",
       "       [1.14755349e-11, 9.62655555e-09, 2.59021971e-10, 4.29634186e-14,\n",
       "        9.99999881e-01, 3.47061518e-10, 3.92515187e-11, 1.18776844e-09,\n",
       "        2.25541608e-09, 1.19635160e-07],\n",
       "       [5.73394110e-10, 3.29343237e-08, 1.90615790e-08, 1.60090312e-05,\n",
       "        1.47151601e-04, 2.26629072e-06, 1.39113512e-11, 1.74773493e-04,\n",
       "        1.66160353e-05, 9.99643207e-01],\n",
       "       [1.87689349e-08, 4.13897649e-12, 3.39235844e-12, 8.21327121e-12,\n",
       "        9.28440103e-10, 5.21590337e-05, 9.99947190e-01, 1.98633449e-12,\n",
       "        6.53493146e-07, 1.84772961e-10],\n",
       "       [1.59875242e-06, 3.11491384e-08, 4.11296587e-11, 3.62318790e-13,\n",
       "        9.88386455e-06, 1.24068066e-07, 9.99988317e-01, 2.40269853e-11,\n",
       "        2.32611530e-08, 2.82745249e-09],\n",
       "       [1.27182498e-13, 2.95286426e-14, 1.01156761e-15, 6.82395962e-09,\n",
       "        1.89930623e-12, 1.00000000e+00, 1.18247305e-08, 1.21203915e-12,\n",
       "        2.07923012e-09, 3.40523130e-08],\n",
       "       [1.70790304e-09, 3.03411866e-07, 1.01246194e-07, 1.21400265e-10,\n",
       "        9.99992609e-01, 6.27990389e-08, 3.76612741e-09, 1.81903317e-07,\n",
       "        2.29240023e-08, 6.67650011e-06],\n",
       "       [9.99997973e-01, 7.99429203e-11, 3.69551181e-08, 1.81901938e-10,\n",
       "        4.53257876e-08, 2.26903609e-07, 3.01363144e-07, 2.55445567e-08,\n",
       "        1.30711317e-06, 9.49241965e-08],\n",
       "       [1.51717117e-09, 2.20971641e-09, 7.18239335e-08, 3.74842642e-07,\n",
       "        1.71161645e-08, 2.39911258e-10, 2.36412020e-15, 9.99978185e-01,\n",
       "        1.00732833e-09, 2.13590320e-05],\n",
       "       [9.74107879e-15, 3.72845643e-11, 3.04985724e-12, 3.74731710e-17,\n",
       "        1.00000000e+00, 7.45833191e-13, 2.27266665e-14, 2.82239889e-13,\n",
       "        8.01533861e-13, 3.14057669e-09],\n",
       "       [9.99976993e-01, 9.88956970e-08, 1.08557117e-06, 4.16624232e-07,\n",
       "        2.62549786e-08, 7.78706919e-07, 1.21963296e-06, 1.33907042e-06,\n",
       "        1.77406564e-05, 2.62116629e-07],\n",
       "       [3.78030052e-10, 9.99997497e-01, 1.36302205e-07, 5.07307751e-09,\n",
       "        9.32820228e-07, 1.52517448e-08, 6.91264646e-08, 4.72058375e-08,\n",
       "        1.26485179e-06, 3.30748029e-09],\n",
       "       [2.90506653e-14, 2.55619640e-11, 2.02316053e-10, 9.99999881e-01,\n",
       "        6.68241775e-13, 4.24195434e-08, 4.58613157e-15, 9.13316867e-10,\n",
       "        1.00623204e-10, 6.74528380e-08],\n",
       "       [1.38591631e-07, 9.99325633e-01, 1.97297004e-06, 1.26450885e-07,\n",
       "        5.47330419e-04, 1.02183901e-06, 9.63431376e-07, 1.52476105e-05,\n",
       "        9.70311958e-05, 1.05594554e-05],\n",
       "       [7.85541235e-15, 3.33974015e-10, 1.78385429e-09, 9.99999762e-01,\n",
       "        2.89005300e-12, 1.92782252e-07, 3.02141423e-13, 8.98618735e-10,\n",
       "        2.40692213e-08, 2.14405436e-08],\n",
       "       [5.66078874e-04, 5.48860468e-09, 8.89095020e-07, 9.79409967e-15,\n",
       "        9.99431670e-01, 4.62064342e-09, 1.32609887e-06, 1.86481941e-09,\n",
       "        1.49209520e-10, 2.37008457e-09],\n",
       "       [4.68480012e-11, 5.69042342e-08, 6.35241122e-07, 1.03750062e-06,\n",
       "        3.89382859e-10, 2.70610496e-11, 2.70529448e-15, 9.99998212e-01,\n",
       "        6.40568654e-10, 5.05746200e-08],\n",
       "       [2.85595020e-10, 2.19379771e-07, 9.99997973e-01, 7.95692685e-08,\n",
       "        3.14705673e-14, 9.72528915e-13, 7.29252379e-13, 8.61760157e-07,\n",
       "        8.30913450e-07, 2.99042509e-14],\n",
       "       [3.23925137e-10, 8.56567173e-09, 1.40296679e-05, 1.51417780e-07,\n",
       "        2.47856652e-10, 1.99753560e-12, 7.50931977e-15, 9.99985814e-01,\n",
       "        1.44567983e-10, 8.35235614e-09],\n",
       "       [3.46042617e-09, 9.99987125e-01, 4.97778245e-08, 2.24914976e-09,\n",
       "        9.46815180e-06, 1.35242235e-08, 3.37815997e-08, 6.87089596e-07,\n",
       "        2.56226963e-06, 9.52396277e-08],\n",
       "       [7.91771129e-08, 1.45996273e-05, 9.99976397e-01, 3.10617588e-06,\n",
       "        1.23564735e-11, 3.64425955e-11, 3.98340028e-09, 3.74265983e-06,\n",
       "        2.10489679e-06, 9.64570004e-13],\n",
       "       [1.33448182e-07, 9.99979138e-01, 1.52376674e-06, 3.86472436e-08,\n",
       "        1.09280354e-05, 3.83883503e-08, 4.76799460e-06, 5.15253362e-07,\n",
       "        2.93985272e-06, 2.17320917e-08],\n",
       "       [2.13434177e-08, 9.99983668e-01, 3.24990788e-06, 3.14978337e-08,\n",
       "        2.95921313e-06, 5.01568671e-08, 5.36991479e-07, 6.64286199e-06,\n",
       "        2.80467839e-06, 1.11825056e-08],\n",
       "       [4.01486400e-09, 4.35027090e-07, 7.60118055e-05, 1.39406293e-05,\n",
       "        1.27000170e-08, 5.48174506e-10, 1.39460579e-12, 9.99909520e-01,\n",
       "        6.49876952e-09, 5.83826498e-08],\n",
       "       [1.28610596e-13, 1.23481740e-07, 3.55807809e-12, 1.84037234e-13,\n",
       "        9.99985337e-01, 2.12796128e-10, 1.33506661e-11, 7.64805774e-10,\n",
       "        1.11973364e-08, 1.44761843e-05],\n",
       "       [2.54104271e-09, 5.06433244e-05, 9.99946713e-01, 1.31419426e-08,\n",
       "        1.44946682e-06, 5.63468716e-10, 6.54344348e-08, 9.33597903e-07,\n",
       "        1.12354812e-07, 1.10144255e-11],\n",
       "       [3.44551471e-10, 1.93722371e-07, 1.13470844e-06, 9.99951124e-01,\n",
       "        1.89237470e-09, 4.19491953e-05, 2.77251888e-09, 7.86189318e-08,\n",
       "        3.63894117e-07, 5.04334821e-06],\n",
       "       [4.12659990e-10, 6.10966000e-11, 1.53407560e-12, 1.57966085e-07,\n",
       "        1.71164125e-10, 9.99997497e-01, 7.90953550e-07, 1.63397615e-10,\n",
       "        9.11547033e-07, 6.24834684e-07],\n",
       "       [3.12450261e-08, 9.99672890e-01, 9.85614170e-05, 1.28152692e-06,\n",
       "        1.57005488e-04, 8.10693382e-06, 7.66139055e-06, 4.15488830e-06,\n",
       "        4.96718858e-05, 5.96323559e-07],\n",
       "       [5.95631808e-11, 1.31152911e-09, 1.00000000e+00, 2.26077740e-10,\n",
       "        1.04386361e-11, 8.92546196e-14, 1.60247093e-10, 7.90165711e-10,\n",
       "        9.61415303e-09, 2.58504079e-15],\n",
       "       [4.39578820e-13, 3.23127125e-08, 1.79564280e-11, 2.22665853e-12,\n",
       "        9.99904275e-01, 2.12517381e-09, 2.80603340e-12, 4.08048706e-09,\n",
       "        1.91095175e-08, 9.56551448e-05],\n",
       "       [2.49741210e-14, 4.16122692e-11, 7.54505399e-13, 5.46684784e-18,\n",
       "        1.00000000e+00, 2.33245541e-12, 6.58348647e-13, 3.75073535e-13,\n",
       "        5.48855492e-12, 1.39902427e-08],\n",
       "       [1.34376035e-06, 2.77617207e-10, 3.98567152e-11, 6.20952456e-11,\n",
       "        2.58978505e-10, 5.71763508e-07, 9.99998093e-01, 5.41566098e-11,\n",
       "        1.67027903e-08, 7.42261634e-12],\n",
       "       [1.19004051e-11, 1.54875949e-07, 7.08705343e-08, 9.99998927e-01,\n",
       "        2.88887969e-10, 1.10611303e-07, 6.95460443e-12, 1.62995320e-07,\n",
       "        5.82958251e-07, 2.92295237e-08],\n",
       "       [7.90735478e-14, 2.38588073e-14, 7.62386364e-17, 5.95096461e-09,\n",
       "        3.55975948e-12, 1.00000000e+00, 1.14786569e-09, 8.70158058e-13,\n",
       "        3.65605235e-09, 5.11674472e-08],\n",
       "       [2.23072017e-12, 6.09972683e-10, 1.90473071e-12, 4.46167978e-05,\n",
       "        6.97352454e-10, 9.99945283e-01, 4.10477021e-08, 1.16255183e-09,\n",
       "        2.10211329e-06, 7.97691519e-06],\n",
       "       [5.36690727e-08, 1.85218681e-12, 1.25823451e-15, 2.72231836e-15,\n",
       "        1.23589325e-11, 1.59880589e-08, 1.00000000e+00, 7.76896163e-15,\n",
       "        1.15077259e-09, 5.12504866e-15],\n",
       "       [9.99994636e-01, 5.22334620e-10, 3.39250690e-08, 3.06091652e-10,\n",
       "        1.29042310e-09, 1.58807811e-08, 1.52766148e-07, 1.21474057e-08,\n",
       "        5.15185502e-06, 4.68048267e-09],\n",
       "       [6.59791105e-15, 8.90016325e-11, 5.53368820e-13, 2.84682935e-18,\n",
       "        1.00000000e+00, 3.14567816e-13, 2.08350522e-13, 9.85320766e-13,\n",
       "        5.71364137e-12, 4.12814533e-10],\n",
       "       [3.02754088e-09, 9.99992013e-01, 1.02374599e-06, 1.45550039e-09,\n",
       "        3.60422518e-06, 3.00111114e-09, 8.66232099e-08, 2.70294322e-06,\n",
       "        4.29849592e-07, 2.19579799e-09],\n",
       "       [4.87915047e-12, 1.48782690e-12, 2.68866235e-10, 2.08072475e-08,\n",
       "        1.77803327e-06, 3.71645803e-09, 2.38123577e-15, 1.03430170e-06,\n",
       "        1.63125802e-09, 9.99997139e-01],\n",
       "       [1.63454172e-09, 1.39203156e-08, 1.27658934e-11, 7.85227257e-06,\n",
       "        1.39919086e-06, 9.99488711e-01, 6.76832599e-08, 8.04827050e-06,\n",
       "        5.31711048e-05, 4.40662727e-04],\n",
       "       [1.93193172e-13, 1.24139275e-11, 1.35917614e-11, 3.95308888e-07,\n",
       "        2.35169575e-11, 1.89108191e-12, 2.41348219e-19, 9.99999642e-01,\n",
       "        7.98809716e-12, 5.54512170e-08],\n",
       "       [3.30451932e-08, 5.77386142e-12, 5.81433233e-06, 5.36117373e-09,\n",
       "        2.70291471e-12, 8.99039705e-08, 7.61864527e-09, 1.37981765e-10,\n",
       "        9.99994040e-01, 5.35779021e-09],\n",
       "       [7.85259090e-06, 3.92482775e-07, 7.80230380e-07, 1.34511793e-05,\n",
       "        8.26299423e-04, 2.02902909e-02, 7.31881210e-06, 1.81605737e-03,\n",
       "        5.09661390e-04, 9.76527870e-01],\n",
       "       [8.19001811e-12, 5.62838054e-10, 8.76364138e-05, 9.99871969e-01,\n",
       "        5.35534514e-14, 2.68927511e-06, 5.20230614e-13, 1.15584990e-08,\n",
       "        3.71010065e-05, 5.15287581e-07],\n",
       "       [3.49540256e-17, 5.50667411e-12, 5.33110445e-09, 3.79800413e-09,\n",
       "        3.78210380e-11, 1.29378025e-15, 4.19211499e-21, 1.00000000e+00,\n",
       "        1.86228962e-12, 5.03879334e-11],\n",
       "       [6.04581345e-08, 1.18067455e-05, 2.75261925e-07, 8.61296368e-09,\n",
       "        9.99228239e-01, 1.75285538e-06, 2.46627341e-08, 7.11503674e-07,\n",
       "        2.05501419e-06, 7.55090790e-04],\n",
       "       [1.95823759e-05, 5.47814011e-07, 1.94394598e-10, 4.59766149e-11,\n",
       "        1.66477548e-07, 1.11022764e-08, 9.99979734e-01, 2.67588729e-10,\n",
       "        4.76384976e-09, 1.16423343e-10],\n",
       "       [1.54335017e-10, 1.28247164e-08, 1.05593423e-09, 4.63676677e-13,\n",
       "        9.99981523e-01, 3.15759463e-09, 6.55739282e-11, 8.54813442e-10,\n",
       "        7.64049446e-09, 1.84935270e-05],\n",
       "       [1.58596422e-12, 1.62752678e-09, 1.19089108e-07, 9.99994159e-01,\n",
       "        3.60966729e-10, 9.97134180e-07, 4.73242864e-13, 4.27639719e-07,\n",
       "        8.02068030e-08, 4.16374587e-06],\n",
       "       [9.99999881e-01, 2.20232890e-13, 2.39601983e-09, 1.45541135e-10,\n",
       "        4.31729435e-12, 7.32449337e-08, 3.20078009e-08, 2.05282902e-08,\n",
       "        1.66419216e-08, 7.22279925e-09],\n",
       "       [1.32885109e-12, 7.05231099e-12, 9.70760208e-11, 1.85098976e-08,\n",
       "        3.98588009e-13, 6.23095325e-14, 8.28600584e-20, 1.00000000e+00,\n",
       "        1.20884571e-13, 1.49443169e-09],\n",
       "       [1.00000000e+00, 7.71739240e-14, 6.60734800e-10, 7.63100737e-13,\n",
       "        1.19752619e-11, 9.84424320e-10, 1.98104311e-09, 2.53767007e-10,\n",
       "        4.45844606e-08, 5.27106303e-10],\n",
       "       [4.01191130e-07, 4.80686567e-11, 9.99990106e-01, 8.93179640e-06,\n",
       "        6.34487105e-14, 1.79078957e-11, 4.62553274e-14, 1.48690077e-07,\n",
       "        4.61623756e-07, 5.39175753e-11],\n",
       "       [2.49574896e-07, 1.72486591e-06, 4.26174984e-06, 2.45167621e-06,\n",
       "        1.14105991e-04, 2.35782906e-07, 1.00199504e-09, 2.30852980e-03,\n",
       "        1.75321463e-03, 9.95815217e-01],\n",
       "       [1.64899916e-09, 9.99982357e-01, 3.55716558e-08, 6.49741705e-10,\n",
       "        1.68154056e-05, 1.04358193e-08, 9.46334779e-08, 1.33175277e-07,\n",
       "        5.58374552e-07, 1.64587650e-08],\n",
       "       [7.92166554e-18, 4.54002252e-11, 3.04149483e-10, 1.18850574e-08,\n",
       "        9.96193683e-10, 1.06314366e-14, 1.18366848e-20, 1.00000000e+00,\n",
       "        6.21186921e-11, 1.75339043e-09],\n",
       "       [4.31030630e-15, 5.45195104e-11, 1.69047054e-10, 9.99999046e-01,\n",
       "        8.96259182e-14, 8.16506144e-07, 4.10094796e-14, 1.48143928e-11,\n",
       "        1.88148097e-09, 1.52500448e-07],\n",
       "       [1.81614681e-07, 7.99508541e-07, 9.99807298e-01, 2.03530519e-07,\n",
       "        3.65132508e-10, 1.74547113e-10, 4.74776676e-11, 1.89715764e-04,\n",
       "        1.80275151e-06, 1.17730070e-09],\n",
       "       [4.18237704e-07, 1.32978687e-06, 2.76740792e-07, 9.51837933e-07,\n",
       "        1.16460805e-03, 1.46867137e-06, 3.62697961e-08, 5.40198471e-06,\n",
       "        1.09884245e-02, 9.87837017e-01],\n",
       "       [4.44350001e-10, 3.20418451e-07, 1.68523604e-06, 2.73315550e-06,\n",
       "        1.22984773e-07, 2.93865665e-09, 2.31267886e-13, 9.99973297e-01,\n",
       "        2.11500279e-07, 2.16277931e-05],\n",
       "       [1.53641526e-08, 5.20773469e-09, 9.00076347e-10, 7.15915789e-08,\n",
       "        2.60824186e-06, 1.46027318e-07, 6.98547286e-13, 9.99858141e-01,\n",
       "        3.31573702e-08, 1.38971649e-04],\n",
       "       [2.62549065e-06, 4.44486004e-10, 2.35424319e-11, 2.69802583e-11,\n",
       "        9.88263138e-10, 4.08797678e-06, 9.99993205e-01, 1.27085564e-10,\n",
       "        6.42282600e-08, 1.04855832e-10],\n",
       "       [2.41770173e-13, 1.30436295e-11, 1.00000000e+00, 1.97872985e-11,\n",
       "        1.00078997e-15, 1.63042090e-15, 2.42919965e-15, 1.02445963e-09,\n",
       "        5.20518406e-10, 5.80679268e-17],\n",
       "       [4.13270355e-11, 2.89148254e-11, 1.84463292e-10, 2.04358841e-09,\n",
       "        8.08538658e-09, 1.65370027e-11, 1.12625246e-16, 9.99999762e-01,\n",
       "        3.66492149e-11, 2.71144927e-07],\n",
       "       [2.29224209e-11, 5.70758579e-11, 3.23858236e-12, 8.21284291e-11,\n",
       "        5.53075274e-09, 2.84643392e-07, 2.03868666e-07, 2.39031052e-11,\n",
       "        9.99999523e-01, 1.31790339e-08],\n",
       "       [2.52511999e-15, 4.98453279e-09, 2.87554187e-13, 4.11414914e-16,\n",
       "        1.00000000e+00, 1.34509548e-11, 1.09876816e-13, 8.49086218e-11,\n",
       "        7.62399255e-10, 2.77814536e-08],\n",
       "       [1.19689342e-10, 1.78535629e-07, 4.93161849e-07, 8.92272112e-07,\n",
       "        3.22289173e-09, 1.69329453e-10, 1.14894624e-14, 9.99997377e-01,\n",
       "        1.47427368e-08, 1.04869093e-06],\n",
       "       [5.44307377e-10, 6.70338522e-07, 6.30829300e-06, 9.99917746e-01,\n",
       "        1.46618348e-07, 2.72828743e-06, 2.14886398e-09, 7.12820765e-05,\n",
       "        7.31388639e-07, 3.36673850e-07],\n",
       "       [4.47412916e-08, 7.02942370e-13, 1.30527815e-12, 9.92270444e-17,\n",
       "        1.84611348e-08, 3.88876653e-10, 1.00000000e+00, 6.85693838e-14,\n",
       "        7.14699550e-11, 5.18419807e-14],\n",
       "       [1.09309248e-07, 9.99971747e-01, 1.37644674e-05, 7.71761037e-08,\n",
       "        7.93463096e-06, 6.06080874e-09, 2.80528661e-06, 2.27781698e-06,\n",
       "        1.26385942e-06, 7.53488916e-09],\n",
       "       [6.99931514e-14, 2.60680995e-12, 2.53487942e-09, 9.99999642e-01,\n",
       "        2.05452119e-15, 2.76431052e-07, 6.44084463e-14, 1.65921669e-11,\n",
       "        3.18478754e-08, 3.89447692e-08],\n",
       "       [1.08630340e-08, 1.24283127e-11, 9.57632758e-12, 1.27523111e-12,\n",
       "        2.63726013e-10, 5.15806668e-08, 1.00000000e+00, 1.34438372e-13,\n",
       "        1.43714596e-08, 1.91456139e-11],\n",
       "       [5.11105839e-07, 4.81702409e-06, 3.71611441e-06, 9.67835604e-06,\n",
       "        6.04993552e-02, 2.10054714e-05, 5.53948496e-07, 2.17694600e-04,\n",
       "        1.03419623e-03, 9.38208461e-01],\n",
       "       [4.36484937e-09, 1.85661588e-06, 7.10050927e-07, 9.97690320e-01,\n",
       "        1.13002265e-07, 1.07483089e-03, 1.79352888e-09, 4.15104608e-07,\n",
       "        1.53517624e-06, 1.23016501e-03],\n",
       "       [2.79362187e-08, 9.99930620e-01, 1.62780234e-05, 3.34079928e-08,\n",
       "        1.10721849e-05, 2.06665163e-07, 4.39361838e-06, 1.08405993e-06,\n",
       "        3.62277606e-05, 5.45803651e-08],\n",
       "       [4.91264873e-05, 1.67454215e-04, 1.56471106e-06, 2.21545005e-08,\n",
       "        9.97338831e-01, 8.93193464e-06, 1.06594380e-04, 6.68774192e-07,\n",
       "        6.67169283e-04, 1.65962626e-03],\n",
       "       [4.19050457e-06, 9.70275581e-01, 1.21660007e-04, 1.60718220e-04,\n",
       "        2.22901367e-02, 1.19496312e-03, 2.58958462e-05, 5.41492715e-04,\n",
       "        4.22604242e-03, 1.15939265e-03],\n",
       "       [1.67206582e-10, 1.16391766e-06, 8.28922028e-04, 7.30186002e-05,\n",
       "        2.89865875e-06, 1.61161240e-09, 6.69413691e-11, 9.99092698e-01,\n",
       "        1.35887979e-06, 8.78992612e-09],\n",
       "       [1.74493525e-05, 4.77841378e-10, 1.39137046e-09, 2.00958125e-10,\n",
       "        8.67159500e-09, 3.24700319e-04, 9.99616861e-01, 5.55576918e-10,\n",
       "        4.10225039e-05, 2.53120880e-09],\n",
       "       [9.87321986e-13, 1.47951887e-12, 2.50398261e-11, 9.25292232e-10,\n",
       "        4.54572643e-07, 6.39856085e-11, 6.39605484e-16, 5.93990777e-08,\n",
       "        1.00578323e-09, 9.99999523e-01]], dtype=float32)"
      ]
     },
     "execution_count": 17,
     "metadata": {},
     "output_type": "execute_result"
    }
   ],
   "source": [
    "res"
   ]
  },
  {
   "cell_type": "code",
   "execution_count": null,
   "metadata": {},
   "outputs": [],
   "source": []
  }
 ],
 "metadata": {
  "hide_input": false,
  "kernelspec": {
   "display_name": "Python 3",
   "language": "python",
   "name": "python3"
  },
  "language_info": {
   "codemirror_mode": {
    "name": "ipython",
    "version": 3
   },
   "file_extension": ".py",
   "mimetype": "text/x-python",
   "name": "python",
   "nbconvert_exporter": "python",
   "pygments_lexer": "ipython3",
   "version": "3.6.7"
  },
  "varInspector": {
   "cols": {
    "lenName": 16,
    "lenType": 16,
    "lenVar": 40
   },
   "kernels_config": {
    "python": {
     "delete_cmd_postfix": "",
     "delete_cmd_prefix": "del ",
     "library": "var_list.py",
     "varRefreshCmd": "print(var_dic_list())"
    },
    "r": {
     "delete_cmd_postfix": ") ",
     "delete_cmd_prefix": "rm(",
     "library": "var_list.r",
     "varRefreshCmd": "cat(var_dic_list()) "
    }
   },
   "types_to_exclude": [
    "module",
    "function",
    "builtin_function_or_method",
    "instance",
    "_Feature"
   ],
   "window_display": false
  }
 },
 "nbformat": 4,
 "nbformat_minor": 2
}
