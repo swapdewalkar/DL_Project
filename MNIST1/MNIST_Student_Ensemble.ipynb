{
 "cells": [
  {
   "cell_type": "code",
   "execution_count": 11,
   "metadata": {
    "ExecuteTime": {
     "end_time": "2019-01-06T16:37:45.536684Z",
     "start_time": "2019-01-06T16:37:43.631146Z"
    }
   },
   "outputs": [
    {
     "name": "stderr",
     "output_type": "stream",
     "text": [
      "Using TensorFlow backend.\n",
      "/home/uttaran/anaconda3/lib/python3.6/importlib/_bootstrap.py:219: RuntimeWarning: compiletime version 3.5 of module 'tensorflow.python.framework.fast_tensor_util' does not match runtime version 3.6\n",
      "  return f(*args, **kwds)\n"
     ]
    }
   ],
   "source": [
    "'''Trains a simple convnet on the MNIST dataset.\n",
    "Gets to 99.25% test accuracy after 12 epochs\n",
    "(there is still a lot of margin for parameter tuning).\n",
    "16 seconds per epoch on a GRID K520 GPU.\n",
    "'''\n",
    "\n",
    "from __future__ import print_function\n",
    "import keras\n",
    "from keras.datasets import mnist\n",
    "from keras.models import Sequential\n",
    "from keras.layers import Dense, Dropout, Flatten\n",
    "from keras.layers import Conv2D, MaxPooling2D\n",
    "from keras import backend as K\n",
    "import numpy as np\n",
    "import matplotlib.pyplot as plt\n",
    "from keras.models import load_model\n",
    "from scipy import stats\n",
    "from sklearn.metrics import accuracy_score\n",
    "\n",
    "batch_size = 128\n",
    "num_classes = 10\n",
    "epochs = 12"
   ]
  },
  {
   "cell_type": "code",
   "execution_count": 12,
   "metadata": {
    "ExecuteTime": {
     "end_time": "2019-01-06T16:39:41.315178Z",
     "start_time": "2019-01-06T16:39:41.284783Z"
    }
   },
   "outputs": [],
   "source": [
    "def load_data():\n",
    "    # input image dimensions\n",
    "    img_rows, img_cols = 28, 28\n",
    "\n",
    "    # the data, split between train and test sets\n",
    "    (x_train, y_train), (x_test, y_test) = mnist.load_data()\n",
    "\n",
    "    if K.image_data_format() == 'channels_first':\n",
    "        x_train = x_train.reshape(x_train.shape[0], 1, img_rows, img_cols)\n",
    "        x_test = x_test.reshape(x_test.shape[0], 1, img_rows, img_cols)\n",
    "        input_shape = (1, img_rows, img_cols)\n",
    "    else:\n",
    "        x_train = x_train.reshape(x_train.shape[0], img_rows, img_cols, 1)\n",
    "        x_test = x_test.reshape(x_test.shape[0], img_rows, img_cols, 1)\n",
    "        input_shape = (img_rows, img_cols, 1)\n",
    "\n",
    "    x_train = x_train.astype('float32')\n",
    "    x_test = x_test.astype('float32')\n",
    "    x_train /= 255\n",
    "    x_test /= 255\n",
    "    print('x_train shape:', x_train.shape)\n",
    "    print(x_train.shape[0], 'train samples')\n",
    "    print(x_test.shape[0], 'test samples')\n",
    "\n",
    "    # convert class vectors to binary class matrices\n",
    "    y_train = keras.utils.to_categorical(y_train, num_classes)\n",
    "    y_test = keras.utils.to_categorical(y_test, num_classes)\n",
    "    return x_train, x_test,y_train,y_test,input_shape\n",
    "\n",
    "def create_model(input_shape,feature_maps,kernel,dense):\n",
    "    model = Sequential()\n",
    "    model.add(Conv2D(feature_maps, kernel_size=(kernel, kernel),\n",
    "                     activation='relu',\n",
    "                     input_shape=input_shape))\n",
    "    model.add(Conv2D(2*feature_maps, (kernel, kernel), activation='relu'))\n",
    "    model.add(MaxPooling2D(pool_size=(2, 2)))\n",
    "    model.add(Dropout(0.25))\n",
    "    model.add(Flatten())\n",
    "    model.add(Dense(dense, activation='relu'))\n",
    "    model.add(Dropout(0.5))\n",
    "    model.add(Dense(num_classes, activation='softmax'))\n",
    "\n",
    "    model.compile(loss=keras.losses.categorical_crossentropy,\n",
    "                  optimizer=keras.optimizers.Adadelta(),\n",
    "                  metrics=['accuracy'])\n",
    "    return  model\n",
    "\n",
    "def get_teacher_softmax(filename):\n",
    "    return np.load(filename)\n",
    "\n",
    "def show_images(data,N):\n",
    "    for i in range(N):\n",
    "#         print(np.argmax(teacher_softmaxs[i]))\n",
    "        plt.imshow(data[i].reshape(28,28))\n",
    "    \n",
    "        plt.show()\n",
    "        \n",
    "def train_model(model,x,y,x_test,y_test,filename):\n",
    "    model.fit(x, y,\n",
    "          batch_size=batch_size,\n",
    "          epochs=epochs,\n",
    "          verbose=1,\n",
    "          validation_data=(x_test, y_test))\n",
    "    score = model.evaluate(x_test, y_test, verbose=0)\n",
    "    print('Test loss:', score[0])\n",
    "    print('Test accuracy:', score[1])\n",
    "    model.save(filename+'.h5')\n",
    "\n",
    "def evaluate(models,x_test,y_test):\n",
    "    predictions=[]\n",
    "    for model in models:\n",
    "        predictions.append(np.argmax(model.predict(x_test),axis=1))\n",
    "    class_predictions = stats.mode(predictions)\n",
    "    accuracy = accuracy_score(y_test, class_predictions)\n",
    "    print(\"Accuracy = \",accuracy,\"%\")"
   ]
  },
  {
   "cell_type": "code",
   "execution_count": 13,
   "metadata": {
    "ExecuteTime": {
     "end_time": "2019-01-06T16:43:06.695735Z",
     "start_time": "2019-01-06T16:39:42.435550Z"
    },
    "scrolled": true
   },
   "outputs": [
    {
     "name": "stdout",
     "output_type": "stream",
     "text": [
      "x_train shape: (60000, 28, 28, 1)\n",
      "60000 train samples\n",
      "10000 test samples\n",
      "Train on 60000 samples, validate on 10000 samples\n",
      "Epoch 1/12\n",
      "60000/60000 [==============================] - 5s 91us/step - loss: 0.9817 - acc: 0.6381 - val_loss: 0.1967 - val_acc: 0.9477\n",
      "Epoch 2/12\n",
      "60000/60000 [==============================] - 4s 66us/step - loss: 0.6526 - acc: 0.7550 - val_loss: 0.1469 - val_acc: 0.9622\n",
      "Epoch 3/12\n",
      "60000/60000 [==============================] - 4s 70us/step - loss: 0.5957 - acc: 0.7740 - val_loss: 0.1236 - val_acc: 0.9672\n",
      "Epoch 4/12\n",
      "60000/60000 [==============================] - 4s 68us/step - loss: 0.5619 - acc: 0.7875 - val_loss: 0.1091 - val_acc: 0.9713\n",
      "Epoch 5/12\n",
      "60000/60000 [==============================] - 4s 68us/step - loss: 0.5453 - acc: 0.7932 - val_loss: 0.1030 - val_acc: 0.9732\n",
      "Epoch 6/12\n",
      "60000/60000 [==============================] - 4s 66us/step - loss: 0.5178 - acc: 0.8036 - val_loss: 0.0927 - val_acc: 0.9733\n",
      "Epoch 7/12\n",
      "60000/60000 [==============================] - 4s 67us/step - loss: 0.5059 - acc: 0.8063 - val_loss: 0.0880 - val_acc: 0.9766\n",
      "Epoch 8/12\n",
      "60000/60000 [==============================] - 4s 69us/step - loss: 0.4983 - acc: 0.8104 - val_loss: 0.0853 - val_acc: 0.9752\n",
      "Epoch 9/12\n",
      "60000/60000 [==============================] - 4s 69us/step - loss: 0.4864 - acc: 0.8140 - val_loss: 0.0830 - val_acc: 0.9762\n",
      "Epoch 10/12\n",
      "60000/60000 [==============================] - 4s 67us/step - loss: 0.4812 - acc: 0.8161 - val_loss: 0.0817 - val_acc: 0.9762\n",
      "Epoch 11/12\n",
      "60000/60000 [==============================] - 4s 69us/step - loss: 0.4823 - acc: 0.8150 - val_loss: 0.0793 - val_acc: 0.9763\n",
      "Epoch 12/12\n",
      "60000/60000 [==============================] - 4s 70us/step - loss: 0.4692 - acc: 0.8216 - val_loss: 0.0802 - val_acc: 0.9769\n",
      "Test loss: 0.08016551281809807\n",
      "Test accuracy: 0.9769\n",
      "Train on 60000 samples, validate on 10000 samples\n",
      "Epoch 1/12\n",
      "60000/60000 [==============================] - 4s 73us/step - loss: 0.9793 - acc: 0.6447 - val_loss: 0.2370 - val_acc: 0.9475\n",
      "Epoch 2/12\n",
      "60000/60000 [==============================] - 4s 70us/step - loss: 0.6594 - acc: 0.7569 - val_loss: 0.1558 - val_acc: 0.9602\n",
      "Epoch 3/12\n",
      "60000/60000 [==============================] - 4s 69us/step - loss: 0.6044 - acc: 0.7747 - val_loss: 0.1391 - val_acc: 0.9622\n",
      "Epoch 4/12\n",
      "60000/60000 [==============================] - 4s 67us/step - loss: 0.5740 - acc: 0.7838 - val_loss: 0.1261 - val_acc: 0.9679\n",
      "Epoch 5/12\n",
      "60000/60000 [==============================] - 4s 65us/step - loss: 0.5526 - acc: 0.7906 - val_loss: 0.1172 - val_acc: 0.9700\n",
      "Epoch 6/12\n",
      "60000/60000 [==============================] - 4s 69us/step - loss: 0.5320 - acc: 0.7983 - val_loss: 0.1059 - val_acc: 0.9707\n",
      "Epoch 7/12\n",
      "60000/60000 [==============================] - 4s 69us/step - loss: 0.5154 - acc: 0.8025 - val_loss: 0.1020 - val_acc: 0.9715\n",
      "Epoch 8/12\n",
      "60000/60000 [==============================] - 4s 65us/step - loss: 0.5100 - acc: 0.8039 - val_loss: 0.0993 - val_acc: 0.9714\n",
      "Epoch 9/12\n",
      "60000/60000 [==============================] - 4s 69us/step - loss: 0.5069 - acc: 0.8066 - val_loss: 0.0969 - val_acc: 0.9733\n",
      "Epoch 10/12\n",
      "60000/60000 [==============================] - 4s 71us/step - loss: 0.4958 - acc: 0.8091 - val_loss: 0.0930 - val_acc: 0.9738\n",
      "Epoch 11/12\n",
      "60000/60000 [==============================] - 4s 68us/step - loss: 0.4927 - acc: 0.8108 - val_loss: 0.0897 - val_acc: 0.9746\n",
      "Epoch 12/12\n",
      "60000/60000 [==============================] - 4s 68us/step - loss: 0.4815 - acc: 0.8160 - val_loss: 0.0860 - val_acc: 0.9756\n",
      "Test loss: 0.08604995803181081\n",
      "Test accuracy: 0.9756\n",
      "Train on 60000 samples, validate on 10000 samples\n",
      "Epoch 1/12\n",
      "60000/60000 [==============================] - 5s 75us/step - loss: 1.0220 - acc: 0.6286 - val_loss: 0.2528 - val_acc: 0.9442\n",
      "Epoch 2/12\n",
      "60000/60000 [==============================] - 4s 72us/step - loss: 0.7097 - acc: 0.7415 - val_loss: 0.1894 - val_acc: 0.9561\n",
      "Epoch 3/12\n",
      "60000/60000 [==============================] - 4s 70us/step - loss: 0.6445 - acc: 0.7636 - val_loss: 0.1555 - val_acc: 0.9603\n",
      "Epoch 4/12\n",
      "60000/60000 [==============================] - 4s 66us/step - loss: 0.6047 - acc: 0.7819 - val_loss: 0.1408 - val_acc: 0.9644\n",
      "Epoch 5/12\n",
      "60000/60000 [==============================] - 4s 68us/step - loss: 0.5887 - acc: 0.7849 - val_loss: 0.1354 - val_acc: 0.9651\n",
      "Epoch 6/12\n",
      "60000/60000 [==============================] - 4s 71us/step - loss: 0.5622 - acc: 0.7972 - val_loss: 0.1277 - val_acc: 0.9681\n",
      "Epoch 7/12\n",
      "60000/60000 [==============================] - 4s 70us/step - loss: 0.5476 - acc: 0.8010 - val_loss: 0.1144 - val_acc: 0.9700\n",
      "Epoch 8/12\n",
      "60000/60000 [==============================] - 4s 68us/step - loss: 0.5305 - acc: 0.8102 - val_loss: 0.1129 - val_acc: 0.9702\n",
      "Epoch 9/12\n",
      "60000/60000 [==============================] - 4s 71us/step - loss: 0.5238 - acc: 0.8089 - val_loss: 0.1057 - val_acc: 0.9712\n",
      "Epoch 10/12\n",
      "60000/60000 [==============================] - 4s 69us/step - loss: 0.5160 - acc: 0.8148 - val_loss: 0.1084 - val_acc: 0.9718\n",
      "Epoch 11/12\n",
      "60000/60000 [==============================] - 4s 66us/step - loss: 0.5062 - acc: 0.8202 - val_loss: 0.1021 - val_acc: 0.9716\n",
      "Epoch 12/12\n",
      "60000/60000 [==============================] - 4s 68us/step - loss: 0.5037 - acc: 0.8203 - val_loss: 0.0972 - val_acc: 0.9726\n",
      "Test loss: 0.09715373584702611\n",
      "Test accuracy: 0.9726\n",
      "Train on 60000 samples, validate on 10000 samples\n",
      "Epoch 1/12\n",
      "60000/60000 [==============================] - 5s 77us/step - loss: 1.0447 - acc: 0.6197 - val_loss: 0.2209 - val_acc: 0.9496\n",
      "Epoch 2/12\n",
      "60000/60000 [==============================] - 4s 69us/step - loss: 0.6971 - acc: 0.7428 - val_loss: 0.1632 - val_acc: 0.9653\n",
      "Epoch 3/12\n",
      "60000/60000 [==============================] - 4s 65us/step - loss: 0.6229 - acc: 0.7726 - val_loss: 0.1344 - val_acc: 0.9693\n",
      "Epoch 4/12\n",
      "60000/60000 [==============================] - 4s 66us/step - loss: 0.5800 - acc: 0.7885 - val_loss: 0.1239 - val_acc: 0.9701\n",
      "Epoch 5/12\n",
      "60000/60000 [==============================] - 4s 71us/step - loss: 0.5608 - acc: 0.7949 - val_loss: 0.1121 - val_acc: 0.9719\n",
      "Epoch 6/12\n",
      "60000/60000 [==============================] - 4s 71us/step - loss: 0.5393 - acc: 0.8040 - val_loss: 0.1035 - val_acc: 0.9712\n",
      "Epoch 7/12\n",
      "60000/60000 [==============================] - 4s 68us/step - loss: 0.5239 - acc: 0.8085 - val_loss: 0.0934 - val_acc: 0.9749\n",
      "Epoch 8/12\n",
      "60000/60000 [==============================] - 4s 66us/step - loss: 0.5142 - acc: 0.8132 - val_loss: 0.0898 - val_acc: 0.9746\n",
      "Epoch 9/12\n",
      "60000/60000 [==============================] - 4s 69us/step - loss: 0.5064 - acc: 0.8150 - val_loss: 0.0922 - val_acc: 0.9747\n",
      "Epoch 10/12\n",
      "60000/60000 [==============================] - 4s 70us/step - loss: 0.4995 - acc: 0.8176 - val_loss: 0.0879 - val_acc: 0.9750\n",
      "Epoch 11/12\n",
      "60000/60000 [==============================] - 4s 66us/step - loss: 0.4922 - acc: 0.8197 - val_loss: 0.0798 - val_acc: 0.9759\n",
      "Epoch 12/12\n",
      "60000/60000 [==============================] - 4s 67us/step - loss: 0.4905 - acc: 0.8217 - val_loss: 0.0866 - val_acc: 0.9762\n",
      "Test loss: 0.08655647002831102\n",
      "Test accuracy: 0.9762\n"
     ]
    }
   ],
   "source": [
    "#Main\n",
    "l=0.5\n",
    "x_train,x_test,y_train,y_test,input_shape=load_data()\n",
    "teacher_softmaxs=get_teacher_softmax(\"teacher_mnist_softmax.npy\")\n",
    "y_true_modified =  l*y_train + (1-l)* teacher_softmaxs\n",
    "\n",
    "model1=create_model(input_shape,4,3,16)\n",
    "model2=create_model(input_shape,4,3,16)\n",
    "model3=create_model(input_shape,4,3,16)\n",
    "model4=create_model(input_shape,4,3,16)\n",
    "\n",
    "# show_images(x_train,10)\n",
    "\n",
    "# print(np.argmax(y_true_modified[:10],axis=1))\n",
    "\n",
    "train_model(model1,x_train,y_true_modified,x_test,y_test,\"model1\")\n",
    "train_model(model2,x_train,y_true_modified,x_test,y_test,\"model2\")\n",
    "train_model(model3,x_train,y_true_modified,x_test,y_test,\"model3\")\n",
    "train_model(model4,x_train,y_true_modified,x_test,y_test,\"model4\")"
   ]
  },
  {
   "cell_type": "code",
   "execution_count": 7,
   "metadata": {
    "ExecuteTime": {
     "end_time": "2019-01-06T16:17:57.033811Z",
     "start_time": "2019-01-06T16:17:56.937140Z"
    }
   },
   "outputs": [],
   "source": [
    "np.argmax(model.predict(x_test),axis=1)"
   ]
  },
  {
   "cell_type": "code",
   "execution_count": 16,
   "metadata": {
    "ExecuteTime": {
     "end_time": "2019-01-06T16:44:53.483280Z",
     "start_time": "2019-01-06T16:44:49.687626Z"
    }
   },
   "outputs": [
    {
     "name": "stdout",
     "output_type": "stream",
     "text": [
      "60000/60000 [==============================] - 4s 63us/step\n"
     ]
    },
    {
     "data": {
      "text/plain": [
       "[0.08793179097572962, 0.97715]"
      ]
     },
     "execution_count": 16,
     "metadata": {},
     "output_type": "execute_result"
    }
   ],
   "source": [
    "model4.evaluate(x_train,y_true_modified)"
   ]
  },
  {
   "cell_type": "code",
   "execution_count": 9,
   "metadata": {
    "ExecuteTime": {
     "end_time": "2019-01-06T16:36:16.905305Z",
     "start_time": "2019-01-06T16:36:16.900306Z"
    }
   },
   "outputs": [],
   "source": [
    "a=[[1,2, 4], [1, 5,3],[4,5,4] ]\n",
    "\n"
   ]
  },
  {
   "cell_type": "code",
   "execution_count": 19,
   "metadata": {
    "ExecuteTime": {
     "end_time": "2019-01-06T16:46:38.581113Z",
     "start_time": "2019-01-06T16:46:37.195636Z"
    }
   },
   "outputs": [
    {
     "data": {
      "image/png": "[encoded data removed]",
      "text/plain": [
       "<Figure size 432x288 with 1 Axes>"
      ]
     },
     "metadata": {
      "needs_background": "light"
     },
     "output_type": "display_data"
    },
    {
     "data": {
      "image/png": "[encoded data removed]",
      "text/plain": [
       "<Figure size 432x288 with 1 Axes>"
      ]
     },
     "metadata": {
      "needs_background": "light"
     },
     "output_type": "display_data"
    },
    {
     "data": {
      "image/png": "[encoded data removed]",
      "text/plain": [
       "<Figure size 432x288 with 1 Axes>"
      ]
     },
     "metadata": {
      "needs_background": "light"
     },
     "output_type": "display_data"
    },
    {
     "data": {
      "image/png": "[encoded data removed]",
      "text/plain": [
       "<Figure size 432x288 with 1 Axes>"
      ]
     },
     "metadata": {
      "needs_background": "light"
     },
     "output_type": "display_data"
    },
    {
     "data": {
      "image/png": "[encoded data removed]",
      "text/plain": [
       "<Figure size 432x288 with 1 Axes>"
      ]
     },
     "metadata": {
      "needs_background": "light"
     },
     "output_type": "display_data"
    },
    {
     "data": {
      "image/png": "[encoded data removed]",
      "text/plain": [
       "<Figure size 432x288 with 1 Axes>"
      ]
     },
     "metadata": {
      "needs_background": "light"
     },
     "output_type": "display_data"
    },
    {
     "data": {
      "image/png": "[encoded data removed]",
      "text/plain": [
       "<Figure size 432x288 with 1 Axes>"
      ]
     },
     "metadata": {
      "needs_background": "light"
     },
     "output_type": "display_data"
    },
    {
     "data": {
      "image/png": "[encoded data removed]",
      "text/plain": [
       "<Figure size 432x288 with 1 Axes>"
      ]
     },
     "metadata": {
      "needs_background": "light"
     },
     "output_type": "display_data"
    },
    {
     "data": {
      "image/png": "[encoded data removed]",
      "text/plain": [
       "<Figure size 432x288 with 1 Axes>"
      ]
     },
     "metadata": {
      "needs_background": "light"
     },
     "output_type": "display_data"
    },
    {
     "data": {
      "image/png": "[encoded data removed]",
      "text/plain": [
       "<Figure size 432x288 with 1 Axes>"
      ]
     },
     "metadata": {
      "needs_background": "light"
     },
     "output_type": "display_data"
    }
   ],
   "source": [
    "show_images(x_test,10)"
   ]
  },
  {
   "cell_type": "code",
   "execution_count": 22,
   "metadata": {
    "ExecuteTime": {
     "end_time": "2019-01-06T16:47:06.273836Z",
     "start_time": "2019-01-06T16:47:06.267610Z"
    }
   },
   "outputs": [
    {
     "data": {
      "text/plain": [
       "array([7, 2, 1, 0, 4, 1, 4, 9, 5, 9])"
      ]
     },
     "execution_count": 22,
     "metadata": {},
     "output_type": "execute_result"
    }
   ],
   "source": [
    "np.argmax(y_test[:10],axis=1)"
   ]
  },
  {
   "cell_type": "code",
   "execution_count": null,
   "metadata": {
    "ExecuteTime": {
     "start_time": "2019-01-06T16:52:18.772Z"
    }
   },
   "outputs": [],
   "source": [
    "model5=create_model(input_shape,4,3,16)\n",
    "epochs=1\n",
    "batch_size = 1500\n",
    "train_model(model5,x_train,y_true_modified,x_test,y_test,\"model5\")"
   ]
  },
  {
   "cell_type": "code",
   "execution_count": 28,
   "metadata": {
    "ExecuteTime": {
     "end_time": "2019-01-06T16:49:40.143056Z",
     "start_time": "2019-01-06T16:49:35.578120Z"
    }
   },
   "outputs": [
    {
     "name": "stdout",
     "output_type": "stream",
     "text": [
      "10000/10000 [==============================] - 1s 67us/step\n",
      "[0.23053752998113633, 0.9455]\n",
      "60000/60000 [==============================] - 4s 65us/step\n",
      "[0.24591355386972427, 0.9408166666666666]\n"
     ]
    }
   ],
   "source": [
    "print(model5.evaluate(x_test,y_test))\n",
    "print(model5.evaluate(x_train,y_train))"
   ]
  },
  {
   "cell_type": "code",
   "execution_count": null,
   "metadata": {},
   "outputs": [],
   "source": []
  }
 ],
 "metadata": {
  "hide_input": false,
  "kernelspec": {
   "display_name": "Python 3",
   "language": "python",
   "name": "python3"
  },
  "language_info": {
   "codemirror_mode": {
    "name": "ipython",
    "version": 3
   },
   "file_extension": ".py",
   "mimetype": "text/x-python",
   "name": "python",
   "nbconvert_exporter": "python",
   "pygments_lexer": "ipython3",
   "version": "3.6.6"
  },
  "varInspector": {
   "cols": {
    "lenName": 16,
    "lenType": 16,
    "lenVar": 40
   },
   "kernels_config": {
    "python": {
     "delete_cmd_postfix": "",
     "delete_cmd_prefix": "del ",
     "library": "var_list.py",
     "varRefreshCmd": "print(var_dic_list())"
    },
    "r": {
     "delete_cmd_postfix": ") ",
     "delete_cmd_prefix": "rm(",
     "library": "var_list.r",
     "varRefreshCmd": "cat(var_dic_list()) "
    }
   },
   "types_to_exclude": [
    "module",
    "function",
    "builtin_function_or_method",
    "instance",
    "_Feature"
   ],
   "window_display": false
  }
 },
 "nbformat": 4,
 "nbformat_minor": 2
}
